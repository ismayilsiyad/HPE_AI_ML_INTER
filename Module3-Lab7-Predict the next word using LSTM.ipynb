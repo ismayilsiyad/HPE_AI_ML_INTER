{
 "cells": [
  {
   "cell_type": "markdown",
   "metadata": {},
   "source": [
    "# Predict Next Word using LSTM"
   ]
  },
  {
   "cell_type": "markdown",
   "metadata": {},
   "source": [
    "We import necessary libraries and modules for training an LSTM (Long Short-Term Memory) language model using Keras. Here's a brief explanation of each import:\n",
    "\n",
    "from __future__ import print_function: This line ensures that the print function behaves as expected, making it compatible with both Python 2 and 3.\n",
    "\n",
    "from keras.callbacks import LambdaCallback: LambdaCallback is a Keras callback that allows you to define custom functions (callbacks) to be executed during training at specific points.\n",
    "\n",
    "from keras.models import Sequential: Sequential is a linear stack of Keras layers, where you can easily add and remove layers.\n",
    "\n",
    "from keras.layers import Dense: Dense is a fully connected neural network layer, where each neuron is connected to every neuron in the previous and next layers.\n",
    "\n",
    "from keras.layers import LSTM: LSTM is a type of recurrent neural network layer that can remember information for a long time, making it suitable for sequence data like text.\n",
    "\n",
    "from keras.optimizers import RMSprop: RMSprop is an optimization algorithm used to update the neural network weights during training.\n",
    "\n",
    "from keras.utils.data_utils import get_file: get_file is a utility function to download files from the internet."
   ]
  },
  {
   "cell_type": "code",
   "execution_count": 1,
   "metadata": {},
   "outputs": [
    {
     "name": "stderr",
     "output_type": "stream",
     "text": [
      "2023-07-24 17:37:32.953282: I tensorflow/tsl/cuda/cudart_stub.cc:28] Could not find cuda drivers on your machine, GPU will not be used.\n",
      "2023-07-24 17:37:32.981851: I tensorflow/tsl/cuda/cudart_stub.cc:28] Could not find cuda drivers on your machine, GPU will not be used.\n",
      "2023-07-24 17:37:32.982424: I tensorflow/core/platform/cpu_feature_guard.cc:182] This TensorFlow binary is optimized to use available CPU instructions in performance-critical operations.\n",
      "To enable the following instructions: AVX2 FMA, in other operations, rebuild TensorFlow with the appropriate compiler flags.\n",
      "2023-07-24 17:37:33.580400: W tensorflow/compiler/tf2tensorrt/utils/py_utils.cc:38] TF-TRT Warning: Could not find TensorRT\n"
     ]
    }
   ],
   "source": [
    "from __future__ import print_function\n",
    "from keras.callbacks import LambdaCallback\n",
    "from keras.models import Sequential\n",
    "from keras.layers import Dense\n",
    "from keras.layers import LSTM\n",
    "from keras.optimizers import RMSprop\n",
    "from keras.utils.data_utils import get_file\n",
    "import numpy as np\n",
    "import random\n",
    "import sys\n",
    "import io"
   ]
  },
  {
   "cell_type": "markdown",
   "metadata": {},
   "source": [
    "We can download the dataset which is publicly available nietzsche.txt"
   ]
  },
  {
   "cell_type": "code",
   "execution_count": 2,
   "metadata": {},
   "outputs": [
    {
     "name": "stdout",
     "output_type": "stream",
     "text": [
      "corpus length: 600893\n"
     ]
    }
   ],
   "source": [
    "path = get_file(\n",
    "    'nietzsche.txt',\n",
    "    origin='https://s3.amazonaws.com/text-datasets/nietzsche.txt')\n",
    "with io.open(path, encoding='utf-8') as f:\n",
    "    text = f.read().lower()\n",
    "print('corpus length:', len(text))"
   ]
  },
  {
   "cell_type": "markdown",
   "metadata": {},
   "source": [
    "The following code cell performs the following tasks:\n",
    "\n",
    "- It calculates the total number of unique characters in the variable 'text' and prints the count.\n",
    "- It creates two dictionaries, 'char_indices' and 'indices_char,' to map characters to their corresponding indices and vice versa.\n",
    "- The code cuts the text into semi-redundant sequences of a specified maximum length ('maxlen') with a given step size ('step').\n",
    "- It creates two lists, 'sentences' and 'next_chars,' to store the sequences and their corresponding next characters, respectively.\n",
    "Finally, it prints the total number of sequences created."
   ]
  },
  {
   "cell_type": "code",
   "execution_count": 3,
   "metadata": {},
   "outputs": [
    {
     "name": "stdout",
     "output_type": "stream",
     "text": [
      "total chars: 57\n",
      "nb sequences: 200285\n"
     ]
    }
   ],
   "source": [
    "chars = sorted(list(set(text)))\n",
    "print('total chars:', len(chars))\n",
    "char_indices = dict((c, i) for i, c in enumerate(chars))\n",
    "indices_char = dict((i, c) for i, c in enumerate(chars))\n",
    "\n",
    "# cut the text in semi-redundant sequences of maxlen characters\n",
    "maxlen = 40\n",
    "step = 3\n",
    "sentences = []\n",
    "next_chars = []\n",
    "for i in range(0, len(text) - maxlen, step):\n",
    "    sentences.append(text[i: i + maxlen])\n",
    "    next_chars.append(text[i + maxlen])\n",
    "print('nb sequences:', len(sentences))"
   ]
  },
  {
   "cell_type": "markdown",
   "metadata": {},
   "source": [
    "This code performs vectorization to transform text data into numerical representations suitable for training a machine learning model. It uses NumPy arrays to create input (x) and output (y) arrays for a character-level language modeling task. The x array represents the input sequences, while the y array represents the corresponding target characters.\n",
    "\n",
    "x is initialized as a multi-dimensional NumPy array of shape (number of sentences, maxlen, number of unique characters) where maxlen is the maximum sequence length of the sentences and chars contains all unique characters in the dataset.\n",
    "\n",
    "y is initialized as a multi-dimensional NumPy array of shape (number of sentences, number of unique characters) to store the target characters.\n",
    "\n",
    "The code then iterates over each sentence and each character in the sentence. For each character, it sets the corresponding index in x to 1 to indicate the presence of that character in the sequence. For the target characters, it sets the corresponding index in y to 1.\n",
    "\n",
    "This vectorization process is essential for efficiently feeding the data into a machine learning model, typically a neural network, for training and prediction."
   ]
  },
  {
   "cell_type": "code",
   "execution_count": 4,
   "metadata": {},
   "outputs": [
    {
     "name": "stdout",
     "output_type": "stream",
     "text": [
      "Vectorization...\n"
     ]
    },
    {
     "name": "stderr",
     "output_type": "stream",
     "text": [
      "/tmp/ipykernel_31876/4194408590.py:2: DeprecationWarning: `np.bool` is a deprecated alias for the builtin `bool`. To silence this warning, use `bool` by itself. Doing this will not modify any behavior and is safe. If you specifically wanted the numpy scalar type, use `np.bool_` here.\n",
      "Deprecated in NumPy 1.20; for more details and guidance: https://numpy.org/devdocs/release/1.20.0-notes.html#deprecations\n",
      "  x = np.zeros((len(sentences), maxlen, len(chars)), dtype=np.bool)\n",
      "/tmp/ipykernel_31876/4194408590.py:3: DeprecationWarning: `np.bool` is a deprecated alias for the builtin `bool`. To silence this warning, use `bool` by itself. Doing this will not modify any behavior and is safe. If you specifically wanted the numpy scalar type, use `np.bool_` here.\n",
      "Deprecated in NumPy 1.20; for more details and guidance: https://numpy.org/devdocs/release/1.20.0-notes.html#deprecations\n",
      "  y = np.zeros((len(sentences), len(chars)), dtype=np.bool)\n"
     ]
    }
   ],
   "source": [
    "print('Vectorization...')\n",
    "x = np.zeros((len(sentences), maxlen, len(chars)), dtype=np.bool)\n",
    "y = np.zeros((len(sentences), len(chars)), dtype=np.bool)\n",
    "for i, sentence in enumerate(sentences):\n",
    "    for t, char in enumerate(sentence):\n",
    "        x[i, t, char_indices[char]] = 1\n",
    "    y[i, char_indices[next_chars[i]]] = 1\n"
   ]
  },
  {
   "cell_type": "markdown",
   "metadata": {},
   "source": [
    "Now we can build the LSTM model"
   ]
  },
  {
   "cell_type": "code",
   "execution_count": 6,
   "metadata": {},
   "outputs": [
    {
     "name": "stdout",
     "output_type": "stream",
     "text": [
      "Build model...\n",
      "Model: \"sequential_1\"\n",
      "_________________________________________________________________\n",
      " Layer (type)                Output Shape              Param #   \n",
      "=================================================================\n",
      " lstm_1 (LSTM)               (None, 128)               95232     \n",
      "                                                                 \n",
      " dense_1 (Dense)             (None, 57)                7353      \n",
      "                                                                 \n",
      "=================================================================\n",
      "Total params: 102,585\n",
      "Trainable params: 102,585\n",
      "Non-trainable params: 0\n",
      "_________________________________________________________________\n"
     ]
    },
    {
     "name": "stderr",
     "output_type": "stream",
     "text": [
      "2023-07-24 17:38:29.738772: I tensorflow/core/common_runtime/executor.cc:1197] [/device:CPU:0] (DEBUG INFO) Executor start aborting (this does not indicate an error and you can ignore this message): INVALID_ARGUMENT: You must feed a value for placeholder tensor 'gradients/split_2_grad/concat/split_2/split_dim' with dtype int32\n",
      "\t [[{{node gradients/split_2_grad/concat/split_2/split_dim}}]]\n",
      "2023-07-24 17:38:29.739924: I tensorflow/core/common_runtime/executor.cc:1197] [/device:CPU:0] (DEBUG INFO) Executor start aborting (this does not indicate an error and you can ignore this message): INVALID_ARGUMENT: You must feed a value for placeholder tensor 'gradients/split_grad/concat/split/split_dim' with dtype int32\n",
      "\t [[{{node gradients/split_grad/concat/split/split_dim}}]]\n",
      "2023-07-24 17:38:29.740939: I tensorflow/core/common_runtime/executor.cc:1197] [/device:CPU:0] (DEBUG INFO) Executor start aborting (this does not indicate an error and you can ignore this message): INVALID_ARGUMENT: You must feed a value for placeholder tensor 'gradients/split_1_grad/concat/split_1/split_dim' with dtype int32\n",
      "\t [[{{node gradients/split_1_grad/concat/split_1/split_dim}}]]\n"
     ]
    }
   ],
   "source": [
    "# build the model: a single LSTM\n",
    "print('Build model...')\n",
    "model = Sequential()\n",
    "model.add(LSTM(128, input_shape=(maxlen, len(chars))))\n",
    "model.add(Dense(len(chars), activation='softmax'))\n",
    "\n",
    "optimizer = RMSprop(lr=0.01)\n",
    "model.compile(loss='categorical_crossentropy', optimizer=optimizer)\n",
    "model.summary()"
   ]
  },
  {
   "cell_type": "code",
   "execution_count": 7,
   "metadata": {},
   "outputs": [],
   "source": [
    "def sample(preds, temperature=1.0):\n",
    "    # helper function to sample an index from a probability array\n",
    "    preds = np.asarray(preds).astype('float64')\n",
    "    preds = np.log(preds) / temperature\n",
    "    exp_preds = np.exp(preds)\n",
    "    preds = exp_preds / np.sum(exp_preds)\n",
    "    probas = np.random.multinomial(1, preds, 1)\n",
    "    return np.argmax(probas)"
   ]
  },
  {
   "cell_type": "markdown",
   "metadata": {},
   "source": [
    "This function is a helper used for sampling an index from a probability array. It takes two parameters:\n",
    "\n",
    "preds: The input probability array.\n",
    "temperature: A parameter controlling the randomness of the sampling. Higher values (e.g., > 1) make the sampling more random, while lower values (e.g., < 1) make it more deterministic.\n",
    "The function performs the following steps:\n",
    "\n",
    "Converts the input probability array (preds) to a numpy array of floats.\n",
    "Applies a logarithmic transformation to the probabilities, divided by the temperature.\n",
    "Calculates the exponentials of the transformed probabilities.\n",
    "Normalizes the exponentials to obtain a new probability array.\n",
    "Uses the multinomial distribution to randomly select an index based on the probabilities.\n",
    "Returns the index with the highest probability, which is the sampled index."
   ]
  },
  {
   "cell_type": "code",
   "execution_count": 8,
   "metadata": {},
   "outputs": [],
   "source": [
    "def on_epoch_end(epoch, _):\n",
    "    # Function invoked at end of each epoch. Prints generated text.\n",
    "    print()\n",
    "    print('----- Generating text after Epoch: %d' % epoch)\n",
    "\n",
    "    start_index = random.randint(0, len(text) - maxlen - 1)\n",
    "    for diversity in [0.2, 0.5, 1.0, 1.2]:\n",
    "        print('----- diversity:', diversity)\n",
    "\n",
    "        generated = ''\n",
    "        sentence = text[start_index: start_index + maxlen]\n",
    "        generated += sentence\n",
    "        print('----- Generating with seed: \"' + sentence + '\"')\n",
    "        sys.stdout.write(generated)\n",
    "\n",
    "        for i in range(400):\n",
    "            x_pred = np.zeros((1, maxlen, len(chars)))\n",
    "            for t, char in enumerate(sentence):\n",
    "                x_pred[0, t, char_indices[char]] = 1.\n",
    "\n",
    "            preds = model.predict(x_pred, verbose=0)[0]\n",
    "            next_index = sample(preds, diversity)\n",
    "            next_char = indices_char[next_index]\n",
    "\n",
    "            generated += next_char\n",
    "            sentence = sentence[1:] + next_char\n",
    "\n",
    "            sys.stdout.write(next_char)\n",
    "            sys.stdout.flush()\n",
    "        print()\n",
    "\n",
    "print_callback = LambdaCallback(on_epoch_end=on_epoch_end)"
   ]
  },
  {
   "cell_type": "markdown",
   "metadata": {},
   "source": [
    "The code defines a function on_epoch_end(epoch, _) that is used as a callback during the training of a language generation model. This function is invoked at the end of each training epoch. It serves the purpose of generating text using the trained model and printing the output for different diversity values.\n",
    "\n",
    "The key steps of the function are as follows:\n",
    "\n",
    "It prints a separator line and indicates the current epoch number.\n",
    "It randomly selects a starting index within the text data, ensuring the chosen section is at least maxlen characters away from the end to form a complete input sequence.\n",
    "It iterates over a predefined set of diversity values (0.2, 0.5, 1.0, and 1.2) that control the randomness of the text generation process.\n",
    "For each diversity value, it generates text by sampling characters from the model's output distribution given the input sequence.\n",
    "The generated text is displayed, and the process continues for 400 characters.\n",
    "The function makes use of various global variables, such as text, maxlen, chars, char_indices, indices_char, model, sample, random, np, and sys, which are presumably defined elsewhere in the code. Additionally, it sets up a print_callback using LambdaCallback to call the on_epoch_end function at the end of each training epoch."
   ]
  },
  {
   "cell_type": "markdown",
   "metadata": {},
   "source": [
    "Now we can train the model, and see the generated text by our model"
   ]
  },
  {
   "cell_type": "code",
   "execution_count": 9,
   "metadata": {},
   "outputs": [
    {
     "name": "stdout",
     "output_type": "stream",
     "text": [
      "Epoch 1/5\n"
     ]
    },
    {
     "name": "stderr",
     "output_type": "stream",
     "text": [
      "2023-07-24 17:38:51.423225: I tensorflow/core/common_runtime/executor.cc:1197] [/device:CPU:0] (DEBUG INFO) Executor start aborting (this does not indicate an error and you can ignore this message): INVALID_ARGUMENT: You must feed a value for placeholder tensor 'gradients/split_2_grad/concat/split_2/split_dim' with dtype int32\n",
      "\t [[{{node gradients/split_2_grad/concat/split_2/split_dim}}]]\n",
      "2023-07-24 17:38:51.424810: I tensorflow/core/common_runtime/executor.cc:1197] [/device:CPU:0] (DEBUG INFO) Executor start aborting (this does not indicate an error and you can ignore this message): INVALID_ARGUMENT: You must feed a value for placeholder tensor 'gradients/split_grad/concat/split/split_dim' with dtype int32\n",
      "\t [[{{node gradients/split_grad/concat/split/split_dim}}]]\n",
      "2023-07-24 17:38:51.425879: I tensorflow/core/common_runtime/executor.cc:1197] [/device:CPU:0] (DEBUG INFO) Executor start aborting (this does not indicate an error and you can ignore this message): INVALID_ARGUMENT: You must feed a value for placeholder tensor 'gradients/split_1_grad/concat/split_1/split_dim' with dtype int32\n",
      "\t [[{{node gradients/split_1_grad/concat/split_1/split_dim}}]]\n",
      "2023-07-24 17:38:51.805695: I tensorflow/core/common_runtime/executor.cc:1197] [/device:CPU:0] (DEBUG INFO) Executor start aborting (this does not indicate an error and you can ignore this message): INVALID_ARGUMENT: You must feed a value for placeholder tensor 'gradients/split_2_grad/concat/split_2/split_dim' with dtype int32\n",
      "\t [[{{node gradients/split_2_grad/concat/split_2/split_dim}}]]\n",
      "2023-07-24 17:38:51.807160: I tensorflow/core/common_runtime/executor.cc:1197] [/device:CPU:0] (DEBUG INFO) Executor start aborting (this does not indicate an error and you can ignore this message): INVALID_ARGUMENT: You must feed a value for placeholder tensor 'gradients/split_grad/concat/split/split_dim' with dtype int32\n",
      "\t [[{{node gradients/split_grad/concat/split/split_dim}}]]\n",
      "2023-07-24 17:38:51.808136: I tensorflow/core/common_runtime/executor.cc:1197] [/device:CPU:0] (DEBUG INFO) Executor start aborting (this does not indicate an error and you can ignore this message): INVALID_ARGUMENT: You must feed a value for placeholder tensor 'gradients/split_1_grad/concat/split_1/split_dim' with dtype int32\n",
      "\t [[{{node gradients/split_1_grad/concat/split_1/split_dim}}]]\n"
     ]
    },
    {
     "name": "stdout",
     "output_type": "stream",
     "text": [
      "1565/1565 [==============================] - ETA: 0s - loss: 1.9536\n",
      "----- Generating text after Epoch: 0\n",
      "----- diversity: 0.2\n",
      "----- Generating with seed: \"ten mixed and entangled together, a\n",
      "magn\"\n",
      "ten mixed and entangled together, a\n",
      "magner o"
     ]
    },
    {
     "name": "stderr",
     "output_type": "stream",
     "text": [
      "2023-07-24 17:39:45.522726: I tensorflow/core/common_runtime/executor.cc:1197] [/device:CPU:0] (DEBUG INFO) Executor start aborting (this does not indicate an error and you can ignore this message): INVALID_ARGUMENT: You must feed a value for placeholder tensor 'gradients/split_2_grad/concat/split_2/split_dim' with dtype int32\n",
      "\t [[{{node gradients/split_2_grad/concat/split_2/split_dim}}]]\n",
      "2023-07-24 17:39:45.523905: I tensorflow/core/common_runtime/executor.cc:1197] [/device:CPU:0] (DEBUG INFO) Executor start aborting (this does not indicate an error and you can ignore this message): INVALID_ARGUMENT: You must feed a value for placeholder tensor 'gradients/split_grad/concat/split/split_dim' with dtype int32\n",
      "\t [[{{node gradients/split_grad/concat/split/split_dim}}]]\n",
      "2023-07-24 17:39:45.525040: I tensorflow/core/common_runtime/executor.cc:1197] [/device:CPU:0] (DEBUG INFO) Executor start aborting (this does not indicate an error and you can ignore this message): INVALID_ARGUMENT: You must feed a value for placeholder tensor 'gradients/split_1_grad/concat/split_1/split_dim' with dtype int32\n",
      "\t [[{{node gradients/split_1_grad/concat/split_1/split_dim}}]]\n"
     ]
    },
    {
     "name": "stdout",
     "output_type": "stream",
     "text": [
      "f the means of the something to the are to the are and the sensity and a streng the present to the superity of the something to the self the were the most all the become to the says and the something of the something to the something to the mean of the sensists to a stand to the something to the most and the something of the sensity and the more and the most and the stand the world and the sen\n",
      "----- diversity: 0.5\n",
      "----- Generating with seed: \"ten mixed and entangled together, a\n",
      "magn\"\n",
      "ten mixed and entangled together, a\n",
      "magner belongs intrigituces of the heres when the has freence, a mentance and are and the somether compresty to be the sensity of the stace lost the good many deligions and the stolly about the senserse of the mest have a stands to the is a science, and conacting it a standers to may of the grates to he have are what the here of the as the are be the freence of the are and it and an as the ment to far\n",
      "----- diversity: 1.0\n",
      "----- Generating with seed: \"ten mixed and entangled together, a\n",
      "magn\"\n",
      "ten mixed and entangled together, a\n",
      "magnely certront molitiats then sayusof sofficable, it \"entrarys.\" even to not man so not lief a fielanh of\n",
      "the unvertaaned.\"--it to moaliar or\n",
      "'bin, of where becausely. the revilions! as the something of not me--\"ho. \"in--life\n",
      "widger the to wa to (as paint distrusted of too\n",
      "sthen to\n",
      "a with ame cruel hem--aptormanyus certrure pheret and shastas.\n",
      "he who in tarestory it to be farsuded to i soden as the \n",
      "----- diversity: 1.2\n",
      "----- Generating with seed: \"ten mixed and entangled together, a\n",
      "magn\"\n",
      "ten mixed and entangled together, a\n",
      "magn he would caye cortaty and,\n",
      "beingsty maruarcy leark,\"\"\n",
      "in the misits bealm to be distacter resolition to chiltinal, no dencess,\n",
      "it elming (kent areses to thating--is tages.--rearnession some that. high ublefinly impro\".\n",
      "he who hen nocerint! owark. it for in sting--is culnuncelf; parts.\n",
      "\"moyelv=serp, then the fprekyus worls .\n",
      "assleoved are above narkpraces\n",
      "alaness.--forst can what \"thes leasing\n",
      "eam\n",
      "1565/1565 [==============================] - 104s 66ms/step - loss: 1.9536\n",
      "Epoch 2/5\n",
      "1565/1565 [==============================] - ETA: 0s - loss: 1.6143\n",
      "----- Generating text after Epoch: 1\n",
      "----- diversity: 0.2\n",
      "----- Generating with seed: \"nted 1658) reaches the\n",
      "vital spot of tru\"\n",
      "nted 1658) reaches the\n",
      "vital spot of truth in the saint and the saint of the saye the saint in the said and and and and and and and in the saint of the prosing the saint and could and and soul of the can content in the saint and and and mankind and and such a self and the and in the such and a suble and and with the saye and and may be such a self-and and and and and and there is the saint and subtamental will to the contention of the s\n",
      "----- diversity: 0.5\n",
      "----- Generating with seed: \"nted 1658) reaches the\n",
      "vital spot of tru\"\n",
      "nted 1658) reaches the\n",
      "vital spot of truth and in their chariation superstore and by which is the power and involved that the devilocally and continced for mankind affer to be may with the doow the anyourwest of neulous called the perhaps the hand and will and and and precalling the content and to in in a such a should it has general from the sale dever and respent and in the such and such and every of suberity in the sale deverence of \n",
      "----- diversity: 1.0\n",
      "----- Generating with seed: \"nted 1658) reaches the\n",
      "vital spot of tru\"\n",
      "nted 1658) reaches the\n",
      "vital spot of truth, modert , the other and\n",
      "fitter tonear\n",
      "two\n",
      "course the by more!\" thed would\n",
      "mimbdive nrom and puite b\" would \"merred beyst, as was eary bot nead abort gain anary, the cy(temit, and synotive he lives, and the sense--but uses we tho\n",
      "exarresthess\": iuse hord secueges as a may vourd \"\"cal a sewer with soundtic\n",
      "per of\n",
      "condition to a cherther scriet, as divening them there--ous\n",
      "beents pown, and if and \n",
      "----- diversity: 1.2\n",
      "----- Generating with seed: \"nted 1658) reaches the\n",
      "vital spot of tru\"\n",
      "nted 1658) reaches the\n",
      "vital spot of truth, if must have in its long culimisteding n--phulosopher a dypingitific owning of i\n",
      "no aderadve sever cridic intri-puremon \"anst i eart!\n",
      "\"agd--i 'a what rutough vorraof;\"\n",
      "the inawhidsing adpiation fexmeali-zitionates call alan religion cinstion, (and chorbye\n",
      "thingn. that with wh-in manly\n",
      "scring, it bema; wagh. onexs for\n",
      "inbegless-\"s, only in itality eout to incoctict:--it was exaty. the\n",
      "sassesiat\n",
      "1565/1565 [==============================] - 104s 66ms/step - loss: 1.6143\n",
      "Epoch 3/5\n",
      "1565/1565 [==============================] - ETA: 0s - loss: 1.5285\n",
      "----- Generating text after Epoch: 2\n",
      "----- diversity: 0.2\n",
      "----- Generating with seed: \"t like eager riders who enjoy\n",
      "horseback \"\n",
      "t like eager riders who enjoy\n",
      "horseback of the concealed and the most self-concealed and the most pain the concealed of the sense of the concealed to the process of the most master of the most concealed and soul of the concealed in the same man and in the subself of the concealed to the same to the concealed of the most becomes and in the sense of the most sense of the prosing and in the concealed to the sense of the concealed to the mo\n",
      "----- diversity: 0.5\n",
      "----- Generating with seed: \"t like eager riders who enjoy\n",
      "horseback \"\n",
      "t like eager riders who enjoy\n",
      "horseback of the god, the same such as the notions of the way a passity--and the childs at the good\" it is the becomes of the most all demons and insignity? in it is not not the defined in the aboun to be deceaved and appeares of the moce of the daderated in the circuls of the sense of the more discover--and the sides of the most more at the concealets at a conceales and free spiriture are to the resport an\n",
      "----- diversity: 1.0\n",
      "----- Generating with seed: \"t like eager riders who enjoy\n",
      "horseback \"\n",
      "t like eager riders who enjoy\n",
      "horseback of their whole well to reasonces his cildarally. breate, biw light\n",
      "and it extrmiseous\n",
      "of which the lusk: this account in above all adgnatys of cal been) eloushts in incould\n",
      "accuplesed men, the worad.\n",
      "this of\n",
      "quasion of mechpostancess to perorgning heri-mod. delicate do, man, when event into of the wrack--to gain upon low mas self-doner or uninted, accives it i cause a. one him\n",
      "former of his old\n",
      "dy\n",
      "----- diversity: 1.2\n",
      "----- Generating with seed: \"t like eager riders who enjoy\n",
      "horseback \"\n",
      "t like eager riders who enjoy\n",
      "horseback have a fores's themselves\n",
      "worthousle!s and moded which is, genius\" havis take so\n",
      "floil; gemp and in nature; sees, invential nature, rounds only nter exist sadeiansly fourged, things has may, relodue--with samufemfeated\n",
      "is lastous to glown us, the hild, firs, accodven of mort; in could it\n",
      "from circusse. it -pontally his free one unfolless of mindems,, to rumerly feelings.\n",
      "\n",
      "  from a\n",
      "to been undeviva\n",
      "1565/1565 [==============================] - 104s 66ms/step - loss: 1.5285\n",
      "Epoch 4/5\n",
      "1565/1565 [==============================] - ETA: 0s - loss: 1.4839\n",
      "----- Generating text after Epoch: 3\n",
      "----- diversity: 0.2\n",
      "----- Generating with seed: \"elight morality occasions! think of the\n",
      "\"\n",
      "elight morality occasions! think of the\n",
      "strive and the sense of the present the sense of the first the manifestation of the sense of the same as the sense of the something of the sense of the sense of the more of the first the sense of the sense of the more for the something the desire of the sense of the consider to the sense of the constant of the same more consider to the foreithest and and and and and and and the standard the presen\n",
      "----- diversity: 0.5\n",
      "----- Generating with seed: \"elight morality occasions! think of the\n",
      "\"\n",
      "elight morality occasions! think of the\n",
      "constitute and conces in the own highest our ohir man mean and for the\n",
      "more cast of the represents of the generation of all whether is not been man and consistific are dispose of this comprehenses; in the same intensing of the conside the every are the believed the specially distrive the constituted to the sense of the most advancent and means of us the manifice the greatent in the same, the the d\n",
      "----- diversity: 1.0\n",
      "----- Generating with seed: \"elight morality occasions! think of the\n",
      "\"\n",
      "elight morality occasions! think of the\n",
      "has nowed peathes is all instinwed to mides, must geveration is does unceptading, dis. this in.quefbles\n",
      "europeaishe, that there are ectain is\n",
      "modern forchance, \n",
      " a beal, brothient in an\n",
      "anti-ther themed as hesioking distrased which is\n",
      "grasks i have the to simple them plaud it one\n",
      "must reciality--has appeary philosophers has i\n",
      "stapek, as has bent interprehession, he is betier to regard with ons of\n",
      "\n",
      "----- diversity: 1.2\n",
      "----- Generating with seed: \"elight morality occasions! think of the\n",
      "\"\n",
      "elight morality occasions! think of the\n",
      "ambigable of a tile?--so k:only a impuncient from 1vern\".\n",
      "\n",
      "distion of the righty nation of\n",
      "old if thereby! \n",
      "ind. dangerous sociec. bentoueganile aboot every luscrmacious hithlyen! as sicends\" in fellrimist comp\"lised anywhat\n",
      "induced meaning casthed ansentionly eto dhut sould.\n",
      "this finel, put everebis fire aldouble this could be thoul\n",
      "egraims of\n",
      "tush so extraill\n",
      "that keads,\n",
      "but they ow obite eny op\n",
      "1565/1565 [==============================] - 104s 66ms/step - loss: 1.4839\n",
      "Epoch 5/5\n",
      "1565/1565 [==============================] - ETA: 0s - loss: 1.4532\n",
      "----- Generating text after Epoch: 4\n",
      "----- diversity: 0.2\n",
      "----- Generating with seed: \"rough hunger and scourgings,\n",
      "distortions\"\n",
      "rough hunger and scourgings,\n",
      "distortions and the such a conception of the such a self and animal and procession of the contrard the deception of the personalities of the moral and stand and defining and the self and animal and and experience of the self deception of the such a sense of the sublimes the problem that the self and animal and the soul. the prosome to the sense of the same doubt the moral and animal and an exception of the s\n",
      "----- diversity: 0.5\n",
      "----- Generating with seed: \"rough hunger and scourgings,\n",
      "distortions\"\n",
      "rough hunger and scourgings,\n",
      "distortions and intellectual assumption of independent of morality and intellectual the constitute of the different and plands and when a hard the propound the superstound for the god the fact that the personality in his things and exception of which the long instinctific out of a morality in the sense of\n",
      "the frunt\n",
      "and\n",
      "exception, with the particism do to that in the astendious that it is a means of the great\n",
      "----- diversity: 1.0\n",
      "----- Generating with seed: \"rough hunger and scourgings,\n",
      "distortions\"\n",
      "rough hunger and scourgings,\n",
      "distortions,\" there wishous necessarile, the belief wished\n",
      "also--which we venius and \n",
      "there xaithy countrythes so instance, or time.g\n",
      "eslies.\n",
      ",\n",
      "made of the french, wishes does the pelfable.\" so, and\n",
      "very roces\n",
      "upin that anythken\n",
      "infor induputant \"without so extenture\n",
      "out exist ones. vely their everywhere adticofinilise and nowing find a curcountration ha do the scientife, in           ou thin fin the individ\n",
      "----- diversity: 1.2\n",
      "----- Generating with seed: \"rough hunger and scourgings,\n",
      "distortions\"\n",
      "rough hunger and scourgings,\n",
      "distortions and found i,\n",
      "maskwar\n",
      "ever, old pensies lofd has\n",
      "own vagiationive dimination of heart, a goes alsw hold \"firstewabszaits.\n",
      "funard when the defead of the too that, in elope \n",
      "             h sibliever--when very man would be a complach, and taken day without leatious,\n",
      "weifit impersent 2es the\n",
      "muligw and hundpead cruel oneyly edlofmine the chen \"lite, t?hever thany interesisle, will fance i feels \"and,\n",
      "1565/1565 [==============================] - 104s 67ms/step - loss: 1.4532\n"
     ]
    },
    {
     "data": {
      "text/plain": [
       "<keras.callbacks.History at 0x7f9638185e50>"
      ]
     },
     "execution_count": 9,
     "metadata": {},
     "output_type": "execute_result"
    }
   ],
   "source": [
    "model.fit(x, y,\n",
    "          batch_size=128,\n",
    "          epochs=5,\n",
    "          callbacks=[print_callback])"
   ]
  }
 ],
 "metadata": {
  "kernelspec": {
   "display_name": "Python 3 (ipykernel)",
   "language": "python",
   "name": "python3"
  },
  "language_info": {
   "codemirror_mode": {
    "name": "ipython",
    "version": 3
   },
   "file_extension": ".py",
   "mimetype": "text/x-python",
   "name": "python",
   "nbconvert_exporter": "python",
   "pygments_lexer": "ipython3",
   "version": "3.8.10"
  }
 },
 "nbformat": 4,
 "nbformat_minor": 2
}
